{
 "cells": [
  {
   "cell_type": "code",
   "execution_count": 1,
   "id": "aeb6648b-9307-4a16-a7ae-1572defd0903",
   "metadata": {},
   "outputs": [],
   "source": [
    "from dotenv import load_dotenv\n",
    "import lyricsgenius\n",
    "import os\n",
    "import pandas as pd\n",
    "import re"
   ]
  },
  {
   "cell_type": "markdown",
   "id": "ac65653c-254e-4821-950d-e4a4ff73f341",
   "metadata": {},
   "source": [
    "To get the lyrics of the songs we are going to use the `lyricgenius` library. This library requires a Genius API key which can be generated creating a free account in [Genius](https://genius.com)."
   ]
  },
  {
   "cell_type": "code",
   "execution_count": 2,
   "id": "e652edb5-d021-4cda-9348-39644d8e1f83",
   "metadata": {},
   "outputs": [],
   "source": [
    "# load enviroment variables from .env file\n",
    "load_dotenv()\n",
    "\n",
    "# acces the variable\n",
    "token = os.getenv(\"GENIUS_API_TOKEN\")"
   ]
  },
  {
   "cell_type": "markdown",
   "id": "94f205f8-4e19-4e4f-bc4d-f08b3d8d7737",
   "metadata": {},
   "source": [
    "Now we create the genius object that we will use to fetch the songs."
   ]
  },
  {
   "cell_type": "code",
   "execution_count": 3,
   "id": "d211f8f9-f4e2-4e77-9781-add0bd72ad58",
   "metadata": {},
   "outputs": [],
   "source": [
    "genius = lyricsgenius.Genius(token)\n",
    "genius.remove_section_headers = True \n",
    "genius.verbose = False"
   ]
  },
  {
   "cell_type": "markdown",
   "id": "d3b71f82-0afe-42d6-989a-8638b35fb12e",
   "metadata": {},
   "source": [
    "To found the songs of a given artist we need its `id`:"
   ]
  },
  {
   "cell_type": "code",
   "execution_count": 38,
   "id": "c0b3db78-acdd-4753-b493-fa063c3cc011",
   "metadata": {},
   "outputs": [
    {
     "name": "stdout",
     "output_type": "stream",
     "text": [
      "{27132: 'Kase.O', 55782: 'SFDK', 1556128: 'Ayax y Prok', 1062440: 'Kaze'}\n"
     ]
    }
   ],
   "source": [
    "artist_names = [\"Kase.O\", \"SFDK\", \"Ayax y Prok\", \"Kaze\"]\n",
    "\n",
    "artists = {}\n",
    "\n",
    "for name in artist_names:\n",
    "    artist_id = genius.search_artist(name, max_songs=0).id\n",
    "    artists[artist_id] = name\n",
    "\n",
    "print(artists)"
   ]
  },
  {
   "cell_type": "markdown",
   "id": "0baa8b3d-3ee3-4504-bc64-b7bcc27d3548",
   "metadata": {},
   "source": [
    "Now we can go through the pages of the website to find songs of our artist. We will omit colaborations, live songs and remixes."
   ]
  },
  {
   "cell_type": "code",
   "execution_count": 39,
   "id": "fd7444e9-b505-426d-92e5-ed671a17ddf8",
   "metadata": {},
   "outputs": [],
   "source": [
    "def find_songs(artist_id, page):  \n",
    "    songs = genius.artist_songs(artist_id, page=3)[\"songs\"]\n",
    "    \n",
    "    songs = list(filter(lambda x: len(x[\"featured_artists\"]) == 0, songs))\n",
    "    songs = list(filter(lambda x: x[\"artist_names\"] == artists[artist_id], songs))\n",
    "    \n",
    "    omit_words = [\"Directo\", \"Remix\", \"Mix\"]\n",
    "    pattern = '|'.join(map(re.escape, omit_words))\n",
    "    \n",
    "    songs = list(filter(lambda x: not re.search(pattern, x[\"full_title\"], re.IGNORECASE), songs))\n",
    "    \n",
    "    song_ids = [song[\"id\"] for song in songs]\n",
    "    \n",
    "    return song_ids"
   ]
  },
  {
   "cell_type": "markdown",
   "id": "59508b94-2ec0-40d3-8ede-c5fbd256937d",
   "metadata": {},
   "source": [
    "We will keep fetching songs until we have 10k words per artist."
   ]
  },
  {
   "cell_type": "code",
   "execution_count": 47,
   "id": "6580c170-07ae-475a-9838-3b922f465cec",
   "metadata": {},
   "outputs": [
    {
     "name": "stdout",
     "output_type": "stream",
     "text": [
      "Finished downloading Kase.O songs: 8 songs, 3 pages\n",
      "Finished downloading SFDK songs: 9 songs, 2 pages\n",
      "Finished downloading Ayax y Prok songs: 11 songs, 3 pages\n",
      "Finished downloading Kaze songs: 9 songs, 3 pages\n"
     ]
    }
   ],
   "source": [
    "texts = {}\n",
    "\n",
    "MINIMUM_WORDS = 10000\n",
    "\n",
    "for artist_id, artist_name in artists.items():\n",
    "    wordcount = 0\n",
    "    songcount = 0\n",
    "    done = False\n",
    "    page = 1\n",
    "    texts[artist_name] = \"\"\n",
    "    \n",
    "    while not done:\n",
    "        for song_id in find_songs(artist_id, page):\n",
    "            song = genius.search_song(song_id=song_id)\n",
    "\n",
    "            if song:\n",
    "                text = song.to_text()\n",
    "                texts[artist_name] += text\n",
    "\n",
    "                wordcount += len(text.split())\n",
    "                songcount += 1\n",
    "            \n",
    "                if wordcount > MINIMUM_WORDS:\n",
    "                    done = True\n",
    "                    break\n",
    "    \n",
    "        page +=1 \n",
    "\n",
    "    print(f\"Finished downloading {artist_name} songs: {songcount} songs, {page} pages\")"
   ]
  },
  {
   "cell_type": "markdown",
   "id": "1af6a0fe-104f-46ea-83aa-e6f511909de8",
   "metadata": {},
   "source": [
    "Now we have to clear the texts"
   ]
  },
  {
   "cell_type": "code",
   "execution_count": 48,
   "id": "bc1238e4-801a-4f9e-b921-68e0a4ef1089",
   "metadata": {},
   "outputs": [
    {
     "data": {
      "text/plain": [
       "'2 ContributorsDe Una; Pt. 2: Ya No Puedo Más Lyrics\\n\\nLatidos no me guían el camino\\nYo persigo lo que quiero y lo consigo con mis\\u2005manos\\nOs\\u2005miro como miro\\u2005al rico que dice ser superior\\nHasta\\u2005que se da cuenta que vive en la tierra igual que yo\\nComo me toca la moral llego la hora de elaborar una idea\\nYa que el rap no es laboral\\nY por ahora mola pero mas me molaría volar\\nSin tener que pagar demoras hasta el día en que me muera\\nComo duele tener que ver llorar a la abuela\\nYa no me fastidia la envidia de sanguijuela\\nSi el dolor mas grande no es el de muelas\\nEs tener que ver el nombre de los que quieres en una esquela\\nY me cago en dios y  hasta en la virgen\\nNo hago mas  que ayudar a la gente pero di para que me sirve\\nSuerte tiene Torbe no alguien que crece firme\\nNi drogas ni amigos ni fiestas pa\\' desinhibirse\\n\\nY más, y ya no puedo mas\\nLo malo que me traen lo bueno que se va\\nLas veces que te caes te ayudo a levantar\\nY ya no puedo mas, y ya no aguanto más\\nLo malo que me traen lo bueno que se va\\nLas veces que te caes te ayudo a levantar\\nYou might also like\\nDe buena mañana molestando al vecino\\nYa esta vibrando la membrana por las letras que cocino\\nMi cabeza echa fuego mi mano me echa el vino\\nSi Yorx se pone el coche, yo las bases y el destino\\nY que te vaya bien chica escúchame\\nSe que te quiero pero no me vas a ver\\nPorque no puedo a parte que no debo\\nYa me calenté bastante el tarro por tu pelo\\nY tienes que perderte pa\\' saber donde estabas\\nY hay gente que la deja para ver si la amaba\\nMas repetidos que el estribillo de alguna canción mala\\nSe acaban buscando tranquilidad la encontré en alguna mirada\\nMirad mis balas cara larga el aka cargada\\nTan solo el futuro me espera mis letras me lo avalan\\nAunque ahora muera será porque yo quise yo decidí\\nQue creciese vida en los sitios donde pisé\\n\\nY más, y ya no puedo mas\\nLo malo que me traen lo bueno que se va\\nLas veces que te caes te ayudo a levantar\\nY ya no puedo mas, y ya no aguanto más\\nLo malo que me traen lo bueno que se va\\nLas veces que te caes te ayudo a levantar\\nAvisen, que el de las orejas grandes ya esta acá\\nPuto chupa sangres tengo plomo y una estaca\\nHaz lo que te salga de la polla\\nQue tan solo así se podrá considerar joya\\nY mienten, como mienten siempre\\nComo no me van a ver atento\\nPara que me digan que todo lo que suelto por la boca es mentira\\nNo quiero ni hablar, prefiero subirle volumen a la música\\nY ver como todo se olvida\\nPorque yo lo malo es lo ultimo que quiero\\nY menos pa\\' la gente que aprecio\\nDesde que empece tuve lo que pedí\\nY ahora siento que debo devolverlo porque ahora me nombras\\n¿Será porque buscas la fama a costa de mi nombre?\\nLuego que no vaya de mas y que tiene palabra\\nPorque no es un hombre, joder\\nYo voy solo sin crew ni clika ni banda\\nOs la suda el rap pero el Twitter pa\\' propaganda\\nHablan de mojabragas los que mojaran los tangas\\nAnda no vayas de dios, ningún alma es santa\\n\\nY más, y ya no puedo mas\\nLo malo que me traen lo bueno que se va\\nLas veces que te caes te ayudo a levantar\\nY ya no puedo mas, y ya no aguanto más\\nLo malo que me traen lo bueno que se va\\nLas veces que te caes te ayudo a levantar\\nY ya no puedo mas, y ya no aguanto más\\nLo malo que me traen lo bueno que se va\\nLas veces que te caes te ayudo a levantar\\nY ya no puedo mas, y ya no aguanto más\\nLo malo que me traen lo bueno que se va\\nLas veces que te caes te ayudo a levantarEmbed\\n\\nLatidos no me guían el camino\\nYo persigo lo que quiero y lo consigo con mis\\u2005manos\\nOs\\u2005miro como miro\\u2005al rico que dice ser superior\\nHasta\\u2005que se da cuenta que vive en la tierra igual que yo\\nComo me toca la moral llego la hora de elaborar una idea\\nYa que el rap no es laboral\\nY por ahora mola pero mas me molaría volar\\nSin tener que pagar demoras hasta el día en que me muera\\nComo duele tener que ver llorar a la abuela\\nYa no me fastidia la envidia de sanguijuela\\nSi el dolor mas grande no es el de muelas\\nEs tener que ver el nombre de los que quieres en una esquela\\nY me cago en dios y  hasta en la virgen\\nNo hago mas  que ayudar a la gente pero di para que me sirve\\nSuerte tiene Torbe no alguien que crece firme\\nNi drogas ni amigos ni fiestas pa\\' desinhibirse\\n\\nY más, y ya no puedo mas\\nLo malo que me traen lo bueno que se va\\nLas veces que te caes te ayudo a levantar\\nY ya no puedo mas, y ya no aguanto más\\nLo malo que me traen lo bueno que se va\\nLas veces que te caes te ayudo a levantar\\n\\nDe buena mañana molestando al vecino\\nYa esta vibrando la membrana por las letras que cocino\\nMi cabeza echa fuego mi mano me echa el vino\\nSi Yorx se pone el coche, yo las bases y el destino\\nY que te vaya bien chica escúchame\\nSe que te quiero pero no me vas a ver\\nPorque no puedo a parte que no debo\\nYa me calenté bastante el tarro por tu pelo\\nY tienes que perderte pa\\' saber donde estabas\\nY hay gente que la deja para ver si la amaba\\nMas repetidos que el estribillo de alguna canción mala\\nSe acaban buscando tranquilidad la encontré en alguna mirada\\nMirad mis balas cara larga el aka cargada\\nTan solo el futuro me espera mis letras me lo avalan\\nAunque ahora muera será porque yo quise yo decidí\\nQue creciese vida en los sitios donde pisé\\n\\nY más, y ya no puedo mas\\nLo malo que me traen lo bueno que se va\\nLas veces que te caes te ayudo a levantar\\nY ya no puedo mas, y ya no aguanto más\\nLo malo que me traen lo bueno que se va\\nLas veces que te caes te ayudo a levantar\\n\\nAvisen, que el de las orejas grandes ya esta acá\\nPuto chupa sangres tengo plomo y una estaca\\nHaz lo que te salga de la polla\\nQue tan solo así se podrá considerar joya\\nY mienten, como mienten siempre\\nComo no me van a ver atento\\nPara que me digan que todo lo que suelto por la boca es mentira\\nNo quiero ni hablar, prefiero subirle volumen a la música\\nY ver como todo se olvida\\nPorque yo lo malo es lo ultimo que quiero\\nY menos pa\\' la gente que aprecio\\nDesde que empece tuve lo que pedí\\nY ahora siento que debo devolverlo porque ahora me nombras\\n¿Será porque buscas la fama a costa de mi nombre?\\nLuego que no vaya de mas y que tiene palabra\\nPorque no es un hombre, joder\\nYo voy solo sin crew ni clika ni banda\\nOs la suda el rap pero el Twitter pa\\' propaganda\\nHablan de mojabragas los que mojaran los tangas\\nAnda no vayas de dios, ningún alma es santa\\n\\nY más, y ya no puedo mas\\nLo malo que me traen lo bueno que se va\\nLas veces que te caes te ayudo a levantar\\nY ya no puedo mas, y ya no aguanto más\\nLo malo que me traen lo bueno que se va\\nLas veces que te caes te ayudo a levantar\\n\\nY ya no puedo mas, y ya no aguanto más\\nLo malo que me traen lo bueno que se va\\nLas veces que te caes te ayudo a levantar\\nY ya no puedo mas, y ya no aguanto más\\nLo malo que me traen lo bueno que se va\\nLas veces que te caes te ayudo a levantar1 ContributorDe Una; Pt. 3: Tan Solo Me Expreso Lyrics\\n\\nYou, you\\nEsto es K-A-Z-E, Kaze\\nDesde Cartagena\\nCartagena, uh\\n6-0-0 Studio\\nEsto es De Una, 3\\n\\nLa muerte es obligatoria\\u2005y\\u2005no el estar\\u2005con tu novia\\nUna se carga tu\\u2005vida, otra te amarga la historia\\n¿Cómo me explicas si no esas ojeras? muere por ella que ella\\nMorirá por otra polla más grande que la tuya\\nY así es la realidad, los sueños para niños chicos\\nQue no se encaprichan sólo juegan a los médicos\\nNo se creen nadie, solo saben que son únicos\\nY que lo que tienen son compañeros y no un público\\nBendita inocencia, diste viajes con mi agencia\\nEs esencial para este mundo loco un poco de paciencia\\nEsos textos hacia mí, con claros gestos de violencia\\nEs clara prueba de que si no estoy en lo vuestro no os aprecian\\nPorque un daño serio no es dejar tu relación\\nEs sentir que te parto el culo cuando suena esta canción, decepción tras decepción, así nos vemos hoy en día\\nY porque la sonrisa está en el rostro si no nos la quitarían\\nDame paz, tiempo, lápiz, ganas, ron o Ballan\\'\\nTe escribiré una canción de esas que sanan tus semanas\\nUn duelo de calor la sabana contra mis sábanas\\nMi cama contra ti, \"tus ganas\" versus \"tú ganas\"\\nLevanto mi brazo y no es pa´ marcar mi territorio\\nPues mi mundo son mis folios, los oídos y su coño\\nTodo lo demás es pasajero como aquella chica\\nQue le diste tu \"cora\" y ahora se folla a otro y te pica\\nDame tu mano voy a llevarte a mi cueva\\nSi quieres bebe y hablamos te quedaras como nueva\\nEstamos bajo la luna pero tu boca es la hiena\\nTe sientes como ninguna porque eres otra cualquiera\\n¿a mí que más me da?\\n¿nena esas tetas son verdaderas\\nO son como tu actitud cuándo estás con tus colegas?\\nMC, no tengo rival al rimar caníbal\\nQue me anida una agresividad lírica destructiva\\nSon miles de símiles, escribiré para decirles\\nQue miren a sus lados y si vacilan que lo hagan bien\\nQue sus letras van con los pelos de mis huevos, al bidé\\nFue nacer, abrir los ojos, crecer, contemplar, vencer\\nNo tengo fe en nada, no existe la suerte\\nTe lo curras lo consigues, no trabajar es perderte\\nNo hay money para el rap ¿pero sí pa\\' pagar tu muerte?\\nY una vez perdido la excusa es que yo hago rap de parque\\nClaro claro, su encefalograma va tan plano\\nQue sus planes de futuro dependen de comer nabos\\nEn vez de entender que el rap es para el que se esfuerza\\nY ve la puerta abierta y entra y muere\\nTú eres un mierdas es la verdad\\nToyacos os mato, no me llegáis ni al zapato\\nQue estáis hablando de calle y coméis en casa en un plato\\n¿Yo vivo drama? Yo vivo realidad desde mi cama\\nY mi vida hoy no vale nada, llámame mañana\\nYou might also like\\nEsto ha sido Kaze, ¿okey?\\nSuspiros: La Maqueta\\nEntre las piernas de tu novia\\nDándole duro con mi micrófono de membrana grandeEmbed\\n\\nYou, you\\nEsto es K-A-Z-E, Kaze\\nDesde Cartagena\\nCartagena, uh\\n6-0-0 Studio\\nEsto es De Una, 3\\n\\nLa muerte es obligatoria\\u2005y\\u2005no el estar\\u2005con tu novia\\nUna se carga tu\\u2005vida, otra te amarga la historia\\n¿Cómo me explicas si no esas ojeras? muere por ella que ella\\nMorirá por otra polla más grande que la tuya\\nY así es la realidad, los sueños para niños chicos\\nQue no se encaprichan sólo juegan a los médicos\\nNo se creen nadie, solo saben que son únicos\\nY que lo que tienen son compañeros y no un público\\nBendita inocencia, diste viajes con mi agencia\\nEs esencial para este mundo loco un poco de paciencia\\nEsos textos hacia mí, con claros gestos d'"
      ]
     },
     "execution_count": 48,
     "metadata": {},
     "output_type": "execute_result"
    }
   ],
   "source": [
    "texts[\"Kaze\"][:10000]"
   ]
  },
  {
   "cell_type": "code",
   "execution_count": null,
   "id": "a5bde396-6df2-4895-b000-15833c5a2c54",
   "metadata": {},
   "outputs": [],
   "source": []
  }
 ],
 "metadata": {
  "kernelspec": {
   "display_name": "rap",
   "language": "python",
   "name": "rap"
  },
  "language_info": {
   "codemirror_mode": {
    "name": "ipython",
    "version": 3
   },
   "file_extension": ".py",
   "mimetype": "text/x-python",
   "name": "python",
   "nbconvert_exporter": "python",
   "pygments_lexer": "ipython3",
   "version": "3.13.1"
  }
 },
 "nbformat": 4,
 "nbformat_minor": 5
}
